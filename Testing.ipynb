{
 "cells": [
  {
   "cell_type": "code",
   "execution_count": 3,
   "metadata": {
    "collapsed": true
   },
   "outputs": [],
   "source": [
    "import re"
   ]
  },
  {
   "cell_type": "code",
   "execution_count": 6,
   "metadata": {
    "collapsed": true
   },
   "outputs": [],
   "source": [
    "temporary_file = 'stuff.dat'"
   ]
  },
  {
   "cell_type": "code",
   "execution_count": 71,
   "metadata": {
    "collapsed": false
   },
   "outputs": [
    {
     "name": "stdout",
     "output_type": "stream",
     "text": [
      "twiss, range=#s/#e, sequence=swissfel,betx=betax0,bety=betay0,alfx=alphax0,alfy=alphay0,file=\"stuff.dat\";\n"
     ]
    }
   ],
   "source": [
    "instructions = 'twiss, range=#s/#e, sequence=swissfel,betx=betax0,bety=betay0,alfx=alphax0,alfy=alphay0,file=\"blabla.dat\";'\n",
    "\n",
    "# re.subn(r'^(twiss.*,file=\")[a-z,A-Z,0-9,.]+(\";)$', r'\\1%s\\2' % temporary_file, instructions,\n",
    "#                       flags=re.MULTILINE)\n",
    "\n",
    "pattern_twiss = re.compile(r'^(twiss.*,file=\")[a-z,A-Z,0-9,.]+(\";)$', flags=re.MULTILINE)\n",
    "results = pattern_twiss.subn(r'\\1%s\\2' % temporary_file, instructions)\n",
    "n_instructions = results[0]\n",
    "match = results[1]\n",
    "\n",
    "print(n_instructions)"
   ]
  },
  {
   "cell_type": "code",
   "execution_count": 72,
   "metadata": {
    "collapsed": false
   },
   "outputs": [
    {
     "name": "stdout",
     "output_type": "stream",
     "text": [
      "save,file=\"stuff.dat\";\n",
      "\n"
     ]
    }
   ],
   "source": [
    "instructions = 'save,file=\"OptServValues.angle\";\\n'\n",
    "\n",
    "# results = re.subn(r'^(save.*,file=\")[a-z,A-Z,0-9,.]+(\";)$', r'\\1%s\\2' % temporary_file, instructions,\n",
    "#                       flags=re.MULTILINE)\n",
    "\n",
    "pattern_save = re.compile(r'^(save.*,file=\")[a-z,A-Z,0-9,.]+(\";)$', flags=re.MULTILINE)\n",
    "results = pattern_save.subn(r'\\1%s\\2' % temporary_file, instructions)\n",
    "n_instructions = results[0]\n",
    "match = results[1]\n",
    "\n",
    "print(n_instructions)"
   ]
  },
  {
   "cell_type": "code",
   "execution_count": 73,
   "metadata": {
    "collapsed": false
   },
   "outputs": [
    {
     "name": "stdout",
     "output_type": "stream",
     "text": [
      "write,table=r56data,file=\"stuff.dat\";\n",
      "\n"
     ]
    }
   ],
   "source": [
    "instructions = 'write,table=r56data,file=\"OptServValues.R56\";\\n'\n",
    "\n",
    "# results = re.subn(r'^(write.*,file=\")[a-z,A-Z,0-9,.]+(\";)$', r'\\1%s\\2' % temporary_file, instructions,\n",
    "#                       flags=re.MULTILINE)\n",
    "\n",
    "pattern_write = re.compile(r'^(write.*,file=\")[a-z,A-Z,0-9,.]+(\";)$', flags=re.MULTILINE)\n",
    "results = pattern_write.subn(r'\\1%s\\2' % temporary_file, instructions)\n",
    "n_instructions = results[0]\n",
    "match = results[1]\n",
    "\n",
    "print(n_instructions)"
   ]
  },
  {
   "cell_type": "code",
   "execution_count": 74,
   "metadata": {
    "collapsed": false
   },
   "outputs": [
    {
     "data": {
      "text/plain": [
       "('write,table=r56data,file=\"stuff.dat\";\\n', 1)"
      ]
     },
     "execution_count": 74,
     "metadata": {},
     "output_type": "execute_result"
    }
   ],
   "source": [
    "results"
   ]
  },
  {
   "cell_type": "code",
   "execution_count": null,
   "metadata": {
    "collapsed": true
   },
   "outputs": [],
   "source": []
  }
 ],
 "metadata": {
  "kernelspec": {
   "display_name": "Python 3",
   "language": "python",
   "name": "python3"
  },
  "language_info": {
   "codemirror_mode": {
    "name": "ipython",
    "version": 3
   },
   "file_extension": ".py",
   "mimetype": "text/x-python",
   "name": "python",
   "nbconvert_exporter": "python",
   "pygments_lexer": "ipython3",
   "version": "3.5.2"
  }
 },
 "nbformat": 4,
 "nbformat_minor": 0
}
